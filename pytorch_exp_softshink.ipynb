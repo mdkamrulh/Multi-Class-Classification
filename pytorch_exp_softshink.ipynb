{
  "nbformat": 4,
  "nbformat_minor": 0,
  "metadata": {
    "colab": {
      "name": "pytorch_exp_softshink.ipynb",
      "provenance": []
    },
    "kernelspec": {
      "name": "python3",
      "display_name": "Python 3"
    },
    "language_info": {
      "name": "python"
    }
  },
  "cells": [
    {
      "cell_type": "code",
      "metadata": {
        "colab": {
          "base_uri": "https://localhost:8080/"
        },
        "id": "1WY2WpqMXlUO",
        "outputId": "dfa6846d-d86f-42da-847c-ab2ac975f45a"
      },
      "source": [
        "!pip install tensorflow_addons"
      ],
      "execution_count": null,
      "outputs": [
        {
          "output_type": "stream",
          "text": [
            "Requirement already satisfied: tensorflow_addons in /usr/local/lib/python3.7/dist-packages (0.12.1)\n",
            "Requirement already satisfied: typeguard>=2.7 in /usr/local/lib/python3.7/dist-packages (from tensorflow_addons) (2.7.1)\n"
          ],
          "name": "stdout"
        }
      ]
    },
    {
      "cell_type": "code",
      "metadata": {
        "id": "ftNHtq4OhEq0"
      },
      "source": [
        "import tensorflow as tf\n",
        "from tensorflow import keras\n",
        "import tensorflow_addons as tfa\n"
      ],
      "execution_count": null,
      "outputs": []
    },
    {
      "cell_type": "code",
      "metadata": {
        "id": "fqxcY_jShRUJ"
      },
      "source": [
        "class Linear(keras.layers.Layer):\n",
        "    \"\"\"y = w.x + b\"\"\"\n",
        "\n",
        "    def __init__(self, units):\n",
        "        super(Linear, self).__init__()\n",
        "        self.units = units\n",
        "\n",
        "    def build(self, input_shape):\n",
        "        self.w = self.add_weight(\n",
        "            shape=(input_shape[-1], self.units),\n",
        "            initializer=\"random_normal\",\n",
        "            trainable=True,\n",
        "        )\n",
        "        self.b = self.add_weight(\n",
        "            shape=(self.units,), initializer=\"random_normal\", trainable=True\n",
        "        )\n",
        "\n",
        "    def call(self, inputs):\n",
        "        return tf.matmul(inputs, self.w) + self.b"
      ],
      "execution_count": null,
      "outputs": []
    },
    {
      "cell_type": "code",
      "metadata": {
        "id": "J877djH6hb8e"
      },
      "source": [
        "class ActivityRegularization(keras.layers.Layer):\n",
        "    \"\"\"Layer that creates an activity sparsity regularization loss.\"\"\"\n",
        "\n",
        "    def __init__(self, rate=1e-2):\n",
        "        super(ActivityRegularization, self).__init__()\n",
        "        self.rate = rate\n",
        "\n",
        "    def call(self, inputs):\n",
        "        # We use `add_loss` to create a regularization loss\n",
        "        # that depends on the inputs.\n",
        "        self.add_loss(self.rate * tf.reduce_sum(inputs))\n",
        "        return inputs"
      ],
      "execution_count": null,
      "outputs": []
    },
    {
      "cell_type": "code",
      "metadata": {
        "id": "scQGqkAYgJUA"
      },
      "source": [
        "class SparseMLP(keras.layers.Layer):\n",
        "    \"\"\"Stack of Linear layers with a sparsity regularization loss.\"\"\"\n",
        "\n",
        "    def __init__(self):\n",
        "        super(SparseMLP, self).__init__()\n",
        "        self.linear_1 = Linear(128)\n",
        "        #self.regularization = ActivityRegularization(1e-2)\n",
        "        self.linear_2 = Linear(32)\n",
        "        self.dropout = tf.keras.layers.Dropout(0.2)\n",
        "        self.linear_3 = Linear(10)\n",
        "\n",
        "\n",
        "    def call(self, inputs):\n",
        "        x = self.linear_1(inputs)\n",
        "        x = tfa.activations.softshrink(x, lower = -0.05,upper = 0.05)\n",
        "        #x = self.regularization(x)\n",
        "        x = self.linear_2(x)\n",
        "        x = tfa.activations.softshrink(x, lower=-.05, upper=0.05)\n",
        "        x = self.dropout(x)\n",
        "        x= self.linear_3(x)\n",
        "        return tfa.activations.softshrink(x, lower=-.05, upper = 0.05)\n",
        "\n"
      ],
      "execution_count": null,
      "outputs": []
    },
    {
      "cell_type": "code",
      "metadata": {
        "id": "BHNDph0XghRz"
      },
      "source": [
        "def exponential_loss(y_true,y_pred):\n",
        "  y_true = tf.one_hot(y_true,off_value=-1.,depth=10)\n",
        "  loss = tf.reduce_sum(tf.math.exp(-tf.multiply(y_true,y_pred)))\n",
        "  return loss/len(y_true)"
      ],
      "execution_count": null,
      "outputs": []
    },
    {
      "cell_type": "code",
      "metadata": {
        "colab": {
          "base_uri": "https://localhost:8080/"
        },
        "id": "Ma1SPE1dgb99",
        "outputId": "ae097f39-9f96-4bb5-fcfc-13f0e1dab5ae"
      },
      "source": [
        "(x_train, y_train), (x_test,y_test) = tf.keras.datasets.mnist.load_data()\n",
        "dataset = tf.data.Dataset.from_tensor_slices(\n",
        "    (x_train.reshape(60000, 784).astype(\"float32\") / 255, y_train)\n",
        ")\n",
        "dataset = dataset.shuffle(buffer_size=512).batch(64)\n",
        "\n",
        "# A new MLP.\n",
        "mlp = SparseMLP()\n",
        "\n",
        "# Loss and optimizer.\n",
        "#loss_fn = tf.keras.losses.SparseCategoricalCrossentropy(from_logits=True)\n",
        "loss_fn = exponential_loss\n",
        "optimizer = tf.keras.optimizers.SGD(learning_rate=1e-3)\n",
        "losses=[]\n",
        "\n",
        "for step, (x, y) in enumerate(dataset):\n",
        "    with tf.GradientTape() as tape:\n",
        "\n",
        "        # Forward pass.\n",
        "        logits = mlp(x)\n",
        "\n",
        "        # External loss value for this batch.\n",
        "        loss = loss_fn(y, logits)\n",
        "\n",
        "        # Add the losses created during the forward pass.\n",
        "        loss += sum(mlp.losses)\n",
        "        \n",
        "        # Get gradients of weights wrt the loss.\n",
        "        gradients = tape.gradient(loss, mlp.trainable_weights)\n",
        "        #print(gradients)\n",
        "    # Update the weights of our linear layer.\n",
        "    optimizer.apply_gradients(zip(gradients, mlp.trainable_weights))\n",
        "\n",
        "    losses.append(float(loss))\n",
        "\n",
        "    # Logging.\n",
        "    if step % 100 == 0:\n",
        "        print(\"Step:\", step, \"Loss:\", float(loss))"
      ],
      "execution_count": null,
      "outputs": [
        {
          "output_type": "stream",
          "text": [
            "Step: 0 Loss: 10.093910217285156\n",
            "Step: 100 Loss: 9.335864067077637\n",
            "Step: 200 Loss: 6.6553473472595215\n",
            "Step: 300 Loss: 6.163985252380371\n",
            "Step: 400 Loss: 6.138213157653809\n",
            "Step: 500 Loss: 6.205282211303711\n",
            "Step: 600 Loss: 5.82169246673584\n",
            "Step: 700 Loss: 5.9918084144592285\n",
            "Step: 800 Loss: 5.641983509063721\n",
            "Step: 900 Loss: 5.585603713989258\n"
          ],
          "name": "stdout"
        }
      ]
    },
    {
      "cell_type": "code",
      "metadata": {
        "id": "VbaanjVjkaEz",
        "colab": {
          "base_uri": "https://localhost:8080/",
          "height": 283
        },
        "outputId": "cbbab3ca-209d-409b-d4c9-15727a4048f2"
      },
      "source": [
        "import matplotlib.pyplot as plt\n",
        "%matplotlib inline\n",
        "plt.plot(losses)\n"
      ],
      "execution_count": null,
      "outputs": [
        {
          "output_type": "execute_result",
          "data": {
            "text/plain": [
              "[<matplotlib.lines.Line2D at 0x7f95639895d0>]"
            ]
          },
          "metadata": {
            "tags": []
          },
          "execution_count": 8
        },
        {
          "output_type": "display_data",
          "data": {
            "image/png": "[encoded data removed]",
            "text/plain": [
              "<Figure size 432x288 with 1 Axes>"
            ]
          },
          "metadata": {
            "tags": [],
            "needs_background": "light"
          }
        }
      ]
    },
    {
      "cell_type": "code",
      "metadata": {
        "id": "cr0Dg8uohcCb",
        "colab": {
          "base_uri": "https://localhost:8080/"
        },
        "outputId": "f3555ade-54c8-4625-b35e-0eb18c4a52a5"
      },
      "source": [
        "!pip install tensorflow_addons"
      ],
      "execution_count": null,
      "outputs": [
        {
          "output_type": "stream",
          "text": [
            "Requirement already satisfied: tensorflow_addons in /usr/local/lib/python3.7/dist-packages (0.12.1)\n",
            "Requirement already satisfied: typeguard>=2.7 in /usr/local/lib/python3.7/dist-packages (from tensorflow_addons) (2.7.1)\n"
          ],
          "name": "stdout"
        }
      ]
    },
    {
      "cell_type": "code",
      "metadata": {
        "id": "FP58oE8muBo9"
      },
      "source": [
        ""
      ],
      "execution_count": null,
      "outputs": []
    }
  ]
}